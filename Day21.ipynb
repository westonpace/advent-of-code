{
 "cells": [
  {
   "cell_type": "code",
   "execution_count": 1,
   "metadata": {},
   "outputs": [],
   "source": [
    "import math\n",
    "\n",
    "with open('day21_input.txt') as f:\n",
    "   lines = [line.strip() for line in f.readlines()]"
   ]
  },
  {
   "cell_type": "code",
   "execution_count": 11,
   "metadata": {},
   "outputs": [
    {
     "data": {
      "text/plain": [
       "{'dairy', 'eggs', 'fish', 'peanuts', 'sesame', 'shellfish', 'soy', 'wheat'}"
      ]
     },
     "execution_count": 11,
     "metadata": {},
     "output_type": "execute_result"
    }
   ],
   "source": [
    "list_items = []\n",
    "for line in lines:\n",
    "    paren_index = line.index('(')\n",
    "    items = [item.strip() for item in line[:paren_index].split(' ') if item != '']\n",
    "    allergens = [item.strip() for item in line[paren_index+9:-1].split(',')]\n",
    "    list_items.append({\n",
    "        'items': items,\n",
    "        'allergens': allergens\n",
    "    })\n",
    "all_allergens = set()\n",
    "for list_item in list_items:\n",
    "    for allergen in list_item['allergens']:\n",
    "        all_allergens.add(allergen)\n",
    "all_allergens"
   ]
  },
  {
   "cell_type": "code",
   "execution_count": 14,
   "metadata": {},
   "outputs": [
    {
     "data": {
      "text/plain": [
       "{'fntg', 'fvjkp', 'gtqfrp', 'jtjtrd', 'rlsr', 'xlvrggj', 'xpbxbv', 'zhszc'}"
      ]
     },
     "execution_count": 14,
     "metadata": {},
     "output_type": "execute_result"
    }
   ],
   "source": [
    "allergen_culprits = {}\n",
    "for allergen in all_allergens:\n",
    "    allergen_sets = []\n",
    "    for list_item in list_items:\n",
    "        if allergen in list_item['allergens']:\n",
    "            allergen_sets.append(set(list_item['items']))\n",
    "    common_culprits = set.intersection(*allergen_sets)\n",
    "    allergen_culprits[allergen] = common_culprits\n",
    "\n",
    "all_ingredients = set()\n",
    "for list_item in list_items:\n",
    "    for item in list_item['items']:\n",
    "        all_ingredients.add(item)\n",
    "        \n",
    "all_ingredients\n",
    "all_potential_culprits = set()\n",
    "for allergen, culprits in allergen_culprits.items():\n",
    "    for culprit in culprits:\n",
    "        all_potential_culprits.add(culprit)\n",
    "all_potential_culprits"
   ]
  },
  {
   "cell_type": "code",
   "execution_count": 16,
   "metadata": {},
   "outputs": [
    {
     "data": {
      "text/plain": [
       "2287"
      ]
     },
     "execution_count": 16,
     "metadata": {},
     "output_type": "execute_result"
    }
   ],
   "source": [
    "safe_ingredients = all_ingredients - all_potential_culprits\n",
    "safe_sum = 0\n",
    "for list_item in list_items:\n",
    "    for item in list_item['items']:\n",
    "        if item in safe_ingredients:\n",
    "            safe_sum += 1\n",
    "safe_sum"
   ]
  },
  {
   "cell_type": "code",
   "execution_count": 17,
   "metadata": {},
   "outputs": [
    {
     "data": {
      "text/plain": [
       "{'soy': {'fvjkp', 'jtjtrd'},\n",
       " 'peanuts': {'jtjtrd', 'rlsr'},\n",
       " 'sesame': {'xpbxbv'},\n",
       " 'wheat': {'fntg', 'gtqfrp', 'zhszc'},\n",
       " 'dairy': {'fntg', 'fvjkp', 'gtqfrp', 'jtjtrd', 'rlsr', 'xpbxbv'},\n",
       " 'shellfish': {'jtjtrd', 'xpbxbv'},\n",
       " 'eggs': {'gtqfrp', 'jtjtrd'},\n",
       " 'fish': {'jtjtrd', 'xlvrggj'}}"
      ]
     },
     "execution_count": 17,
     "metadata": {},
     "output_type": "execute_result"
    }
   ],
   "source": [
    "allergen_culprits"
   ]
  },
  {
   "cell_type": "code",
   "execution_count": 25,
   "metadata": {},
   "outputs": [
    {
     "data": {
      "text/plain": [
       "{'sesame': 'xpbxbv',\n",
       " 'shellfish': 'jtjtrd',\n",
       " 'soy': 'fvjkp',\n",
       " 'peanuts': 'rlsr',\n",
       " 'eggs': 'gtqfrp',\n",
       " 'dairy': 'fntg',\n",
       " 'wheat': 'zhszc',\n",
       " 'fish': 'xlvrggj'}"
      ]
     },
     "execution_count": 25,
     "metadata": {},
     "output_type": "execute_result"
    }
   ],
   "source": [
    "canonical_culprits = {}\n",
    "my_culprits = allergen_culprits.copy()\n",
    "for key, culprits in my_culprits.items():\n",
    "    my_culprits[key] = culprits.copy()\n",
    "    \n",
    "while len(my_culprits) > 0:\n",
    "    found_pair = None\n",
    "    for allergen, culprits in my_culprits.items():\n",
    "        if len(culprits) == 1:\n",
    "            found_pair = (allergen, culprits)\n",
    "            break\n",
    "    if not found_pair:\n",
    "        raise Exception('Confounded')\n",
    "    found_item = next(iter(found_pair[1]))\n",
    "    found_allergen = found_pair[0]\n",
    "    canonical_culprits[found_allergen] = found_item\n",
    "    for _, culprits in my_culprits.items():\n",
    "        if found_item in culprits:\n",
    "            culprits.remove(found_item)\n",
    "    del my_culprits[found_allergen]\n",
    "\n",
    "canonical_culprits"
   ]
  },
  {
   "cell_type": "code",
   "execution_count": 26,
   "metadata": {},
   "outputs": [
    {
     "data": {
      "text/plain": [
       "'fntg,gtqfrp,xlvrggj,rlsr,xpbxbv,jtjtrd,fvjkp,zhszc'"
      ]
     },
     "execution_count": 26,
     "metadata": {},
     "output_type": "execute_result"
    }
   ],
   "source": [
    "'fntg,gtqfrp,xlvrggj,rlsr,xpbxbv,jtjtrd,fvjkp,zhszc'"
   ]
  },
  {
   "cell_type": "code",
   "execution_count": null,
   "metadata": {},
   "outputs": [],
   "source": []
  }
 ],
 "metadata": {
  "kernelspec": {
   "display_name": "Python 3",
   "language": "python",
   "name": "python3"
  },
  "language_info": {
   "codemirror_mode": {
    "name": "ipython",
    "version": 3
   },
   "file_extension": ".py",
   "mimetype": "text/x-python",
   "name": "python",
   "nbconvert_exporter": "python",
   "pygments_lexer": "ipython3",
   "version": "3.8.5"
  }
 },
 "nbformat": 4,
 "nbformat_minor": 4
}
