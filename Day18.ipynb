{
 "cells": [
  {
   "cell_type": "code",
   "execution_count": 1,
   "metadata": {},
   "outputs": [],
   "source": [
    "import lark\n",
    "\n",
    "with open('day18_input.txt') as f:\n",
    "    lines = [line.strip() for line in f.readlines()]"
   ]
  },
  {
   "cell_type": "code",
   "execution_count": 41,
   "metadata": {},
   "outputs": [],
   "source": [
    "grammar = \"\"\"\n",
    "  ?element: element \"+\" atom -> sum\n",
    "          | element \"*\" atom -> product\n",
    "          | atom\n",
    "  ?atom: NUMBER              -> number\n",
    "       | \"(\" element \")\"     -> group\n",
    "  %import common.NUMBER\n",
    "  %import common.WS_INLINE\n",
    "  %ignore WS_INLINE\n",
    "\"\"\"\n",
    "\n",
    "@lark.v_args(inline=True)\n",
    "class SimpleMathTransformer(lark.Transformer):\n",
    "    number = float\n",
    "\n",
    "    def __init__(self, verbose=False):\n",
    "        self.verbose = verbose\n",
    "\n",
    "    def sum(self, a, b):\n",
    "        if self.verbose: print(f'{a} + {b}')\n",
    "        return a + b\n",
    "    \n",
    "    def number(self, val):\n",
    "        return int(val)\n",
    "    \n",
    "    def group(self, val):\n",
    "        if self.verbose: print(f'group={val}')\n",
    "        return val\n",
    "    \n",
    "    def product(self, a, b):\n",
    "        if self.verbose: print(f'{a} * {b}')\n",
    "        return a * b\n",
    "\n",
    "parser = lark.Lark(grammar, parser=\"lalr\", start=\"element\", transformer=SimpleMathTransformer())"
   ]
  },
  {
   "cell_type": "code",
   "execution_count": 23,
   "metadata": {},
   "outputs": [],
   "source": [
    "def tree_to_json_str(item):\n",
    "    output = []\n",
    "    tree_to_json(item, output.append)  # will build output in memory\n",
    "    return ''.join(output)\n",
    "\n",
    "def tree_to_json(item, write=None):\n",
    "    \"\"\" Writes a Lark tree as a JSON dictionary. \"\"\"\n",
    "    if write is None: write = sys.stdout.write\n",
    "    _tree_to_json(item, write, 0)\n",
    "\n",
    "def _tree_to_json(item, write, level):\n",
    "    indent = '  ' * level\n",
    "    level += 1\n",
    "    if isinstance(item, lark.Tree):\n",
    "        write(f'{indent}{{ \"type\": \"{item.data}\", \"children\": [\\n')\n",
    "        sep = ''\n",
    "        for child in item.children:\n",
    "            write(indent)\n",
    "            write(sep)\n",
    "            _tree_to_json(child, write, level)\n",
    "            sep = ',\\n'\n",
    "        write(f'{indent}] }}\\n')\n",
    "    elif isinstance(item, lark.Token):\n",
    "        # reminder: Lark Tokens are directly strings\n",
    "        # token attrs include: line, end_line, column, end_column, pos_in_stream, end_pos\n",
    "        write(f'{indent}{{ \"type\": \"{item.type}\", \"text\": \"{item}\", \"line\": {item.line}, \"col\": {item.column} }}\\n')\n",
    "    else:\n",
    "        assert False, item  # fall-through\n",
    "    \n",
    "with open(\"C:\\\\Users\\\\westo\\\\Downloads\\\\ast.json\", \"w\") as f:\n",
    "    tree_to_json(ast, f.write)"
   ]
  },
  {
   "cell_type": "code",
   "execution_count": 34,
   "metadata": {},
   "outputs": [
    {
     "name": "stdout",
     "output_type": "stream",
     "text": [
      "12918250417632\n"
     ]
    }
   ],
   "source": [
    "sum = 0\n",
    "for expression in lines:\n",
    "    sum += parser.parse(expression)\n",
    "print(sum)"
   ]
  },
  {
   "cell_type": "code",
   "execution_count": 54,
   "metadata": {},
   "outputs": [
    {
     "name": "stdout",
     "output_type": "stream",
     "text": [
      "(5 * (5 * 7 * 6 * 7 + 2) * 5 + 7) + 3 * 2 * 8 + 8\n",
      "5 * 7\n",
      "35 * 6\n",
      "7 + 2\n",
      "210 * 9\n",
      "group=1890\n",
      "5 * 1890\n",
      "5 + 7\n",
      "9450 * 12\n",
      "group=113400\n",
      "113400 + 3\n",
      "113403 * 2\n",
      "8 + 8\n",
      "226806 * 16\n"
     ]
    },
    {
     "data": {
      "text/plain": [
       "3628896"
      ]
     },
     "execution_count": 54,
     "metadata": {},
     "output_type": "execute_result"
    }
   ],
   "source": [
    "grammar = \"\"\"\n",
    "  ?product: sum\n",
    "          | product \"*\" sum -> product\n",
    "  ?sum:     atom\n",
    "          | sum \"+\" atom     -> sum\n",
    "  ?atom:    NUMBER           -> number\n",
    "          | \"(\" product \")\"  -> group\n",
    "  %import common.NUMBER\n",
    "  %import common.WS_INLINE\n",
    "  %ignore WS_INLINE\n",
    "\"\"\"\n",
    "parser = lark.Lark(grammar, parser=\"lalr\", start=\"product\", transformer=SimpleMathTransformer(verbose=True))\n",
    "print(lines[0])\n",
    "parser.parse(lines[0])"
   ]
  },
  {
   "cell_type": "code",
   "execution_count": null,
   "metadata": {},
   "outputs": [],
   "source": []
  }
 ],
 "metadata": {
  "kernelspec": {
   "display_name": "Python 3",
   "language": "python",
   "name": "python3"
  },
  "language_info": {
   "codemirror_mode": {
    "name": "ipython",
    "version": 3
   },
   "file_extension": ".py",
   "mimetype": "text/x-python",
   "name": "python",
   "nbconvert_exporter": "python",
   "pygments_lexer": "ipython3",
   "version": "3.8.5"
  }
 },
 "nbformat": 4,
 "nbformat_minor": 4
}
