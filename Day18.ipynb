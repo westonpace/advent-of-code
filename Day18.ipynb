{
 "cells": [
  {
   "cell_type": "code",
   "execution_count": 1,
   "metadata": {},
   "outputs": [],
   "source": [
    "import lark\n",
    "\n",
    "with open('day18_input.txt') as f:\n",
    "    lines = [line.strip() for line in f.readlines()]"
   ]
  },
  {
   "cell_type": "code",
   "execution_count": 41,
   "metadata": {},
   "outputs": [],
   "source": [
    "grammar = \"\"\"\n",
    "  ?element: element \"+\" atom -> sum\n",
    "          | element \"*\" atom -> product\n",
    "          | atom\n",
    "  ?atom: NUMBER              -> number\n",
    "       | \"(\" element \")\"     -> group\n",
    "  %import common.NUMBER\n",
    "  %import common.WS_INLINE\n",
    "  %ignore WS_INLINE\n",
    "\"\"\"\n",
    "\n",
    "@lark.v_args(inline=True)\n",
    "class SimpleMathTransformer(lark.Transformer):\n",
    "    number = float\n",
    "\n",
    "    def __init__(self, verbose=False):\n",
    "        self.verbose = verbose\n",
    "\n",
    "    def sum(self, a, b):\n",
    "        if self.verbose: print(f'{a} + {b}')\n",
    "        return a + b\n",
    "    \n",
    "    def number(self, val):\n",
    "        return int(val)\n",
    "    \n",
    "    def group(self, val):\n",
    "        if self.verbose: print(f'group={val}')\n",
    "        return val\n",
    "    \n",
    "    def product(self, a, b):\n",
    "        if self.verbose: print(f'{a} * {b}')\n",
    "        return a * b\n",
    "\n",
    "parser = lark.Lark(grammar, parser=\"lalr\", start=\"element\", transformer=SimpleMathTransformer())"
   ]
  },
  {
   "cell_type": "code",
   "execution_count": 34,
   "metadata": {},
   "outputs": [
    {
     "name": "stdout",
     "output_type": "stream",
     "text": [
      "12918250417632\n"
     ]
    }
   ],
   "source": [
    "sum = 0\n",
    "for expression in lines:\n",
    "    sum += parser.parse(expression)\n",
    "print(sum)"
   ]
  },
  {
   "cell_type": "code",
   "execution_count": 55,
   "metadata": {},
   "outputs": [],
   "source": [
    "grammar = \"\"\"\n",
    "  ?product: sum\n",
    "          | product \"*\" sum -> product\n",
    "  ?sum:     atom\n",
    "          | sum \"+\" atom     -> sum\n",
    "  ?atom:    NUMBER           -> number\n",
    "          | \"(\" product \")\"  -> group\n",
    "  %import common.NUMBER\n",
    "  %import common.WS_INLINE\n",
    "  %ignore WS_INLINE\n",
    "\"\"\"\n",
    "parser = lark.Lark(grammar, parser=\"lalr\", start=\"product\", transformer=SimpleMathTransformer())"
   ]
  },
  {
   "cell_type": "code",
   "execution_count": 56,
   "metadata": {},
   "outputs": [
    {
     "name": "stdout",
     "output_type": "stream",
     "text": [
      "171259538712010\n"
     ]
    }
   ],
   "source": [
    "sum = 0\n",
    "for expression in lines:\n",
    "    sum += parser.parse(expression)\n",
    "print(sum)"
   ]
  },
  {
   "cell_type": "code",
   "execution_count": null,
   "metadata": {},
   "outputs": [],
   "source": []
  }
 ],
 "metadata": {
  "kernelspec": {
   "display_name": "Python 3",
   "language": "python",
   "name": "python3"
  },
  "language_info": {
   "codemirror_mode": {
    "name": "ipython",
    "version": 3
   },
   "file_extension": ".py",
   "mimetype": "text/x-python",
   "name": "python",
   "nbconvert_exporter": "python",
   "pygments_lexer": "ipython3",
   "version": "3.8.5"
  }
 },
 "nbformat": 4,
 "nbformat_minor": 4
}
