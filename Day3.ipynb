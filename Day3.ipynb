{
 "cells": [
  {
   "cell_type": "code",
   "execution_count": 11,
   "metadata": {},
   "outputs": [],
   "source": [
    "import functools\n",
    "\n",
    "with open('day3_input.txt') as f:\n",
    "    ski_input = [line.strip() for line in f.readlines()]"
   ]
  },
  {
   "cell_type": "code",
   "execution_count": 3,
   "metadata": {},
   "outputs": [
    {
     "name": "stdout",
     "output_type": "stream",
     "text": [
      "Course is 31 units wide and 323 units tall\n"
     ]
    }
   ],
   "source": [
    "width = len(ski_input[0])\n",
    "height = len(ski_input)\n",
    "print(f'Course is {width} units wide and {height} units tall')"
   ]
  },
  {
   "cell_type": "code",
   "execution_count": 4,
   "metadata": {},
   "outputs": [
    {
     "name": "stdout",
     "output_type": "stream",
     "text": [
      "Access at 0,0 is .\n",
      "Access at 10,10 is #\n",
      "Access at 40,10 is #\n",
      "....#...###...##.........#....#....#...###...##.........#....#....#...###...##.........#....#....#.."
     ]
    }
   ],
   "source": [
    "def access(x, y):\n",
    "    normalized_x = x % width\n",
    "    return ski_input[y][normalized_x]\n",
    "\n",
    "def test_access(x, y):\n",
    "    print(f'Access at {x},{y} is {access(x, y)}')\n",
    "    \n",
    "test_access(0,0)\n",
    "test_access(10,10)\n",
    "test_access(40,10)\n",
    "\n",
    "for i in range(100):\n",
    "    print(access(i, 10),end='')"
   ]
  },
  {
   "cell_type": "code",
   "execution_count": 5,
   "metadata": {},
   "outputs": [
    {
     "name": "stdout",
     "output_type": "stream",
     "text": [
      "272\n"
     ]
    }
   ],
   "source": [
    "trees_hit = 0\n",
    "x_pos = 0\n",
    "for row_index in range(height):\n",
    "    if access(x_pos, row_index) == '#':\n",
    "        trees_hit = trees_hit + 1\n",
    "    x_pos = x_pos + 3\n",
    "print(trees_hit)"
   ]
  },
  {
   "cell_type": "code",
   "execution_count": 7,
   "metadata": {},
   "outputs": [
    {
     "name": "stdout",
     "output_type": "stream",
     "text": [
      "272\n"
     ]
    }
   ],
   "source": [
    "def calculate_trees(x_diff, y_diff):\n",
    "    trees_hit = 0\n",
    "    x_pos = 0\n",
    "    y_pos = 0\n",
    "    while y_pos < height:\n",
    "        if access(x_pos, y_pos) == '#':\n",
    "            trees_hit = trees_hit + 1\n",
    "        x_pos = x_pos + x_diff\n",
    "        y_pos = y_pos + y_diff\n",
    "    return trees_hit\n",
    "print(calculate_trees(3, 1))"
   ]
  },
  {
   "cell_type": "code",
   "execution_count": 9,
   "metadata": {},
   "outputs": [
    {
     "data": {
      "text/plain": [
       "[85, 272, 66, 73, 35]"
      ]
     },
     "execution_count": 9,
     "metadata": {},
     "output_type": "execute_result"
    }
   ],
   "source": [
    "slopes = [\n",
    "    (1, 1),\n",
    "    (3, 1),\n",
    "    (5, 1),\n",
    "    (7, 1),\n",
    "    (1, 2)\n",
    "]\n",
    "trees = [calculate_trees(slope[0], slope[1]) for slope in slopes]\n",
    "trees\n"
   ]
  },
  {
   "cell_type": "code",
   "execution_count": 12,
   "metadata": {},
   "outputs": [
    {
     "name": "stdout",
     "output_type": "stream",
     "text": [
      "3898725600\n"
     ]
    }
   ],
   "source": [
    "product = functools.reduce(lambda a,b: a*b, trees)\n",
    "print(product)"
   ]
  },
  {
   "cell_type": "code",
   "execution_count": null,
   "metadata": {},
   "outputs": [],
   "source": []
  }
 ],
 "metadata": {
  "kernelspec": {
   "display_name": "Python 3",
   "language": "python",
   "name": "python3"
  },
  "language_info": {
   "codemirror_mode": {
    "name": "ipython",
    "version": 3
   },
   "file_extension": ".py",
   "mimetype": "text/x-python",
   "name": "python",
   "nbconvert_exporter": "python",
   "pygments_lexer": "ipython3",
   "version": "3.8.6"
  }
 },
 "nbformat": 4,
 "nbformat_minor": 4
}
