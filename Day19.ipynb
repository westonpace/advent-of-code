{
 "cells": [
  {
   "cell_type": "code",
   "execution_count": 1,
   "metadata": {},
   "outputs": [],
   "source": [
    "import lark\n",
    "\n",
    "with open('day19_input.txt') as f:\n",
    "   lines = [line.strip() for line in f.readlines()]"
   ]
  },
  {
   "cell_type": "code",
   "execution_count": 14,
   "metadata": {},
   "outputs": [],
   "source": [
    "split_point = lines.index('')\n",
    "grammar_lines = lines[:split_point]\n",
    "test_lines = lines[split_point+1:]\n",
    "\n",
    "def num_to_alpha(num):\n",
    "    result = ''\n",
    "    while True:\n",
    "        letter = num % 26\n",
    "        result += chr(97 + letter)\n",
    "        if num < 26:\n",
    "            break\n",
    "        num = num // 26\n",
    "    return result[::-1]\n",
    "\n",
    "def patch_grammar(grammar_lines):\n",
    "    grammar_str = '\\n'.join(grammar_lines)\n",
    "    grammar_nos = reversed(sorted([int(line[:line.index(':')]) for line in grammar_lines]))\n",
    "    for grammar_no in grammar_nos:\n",
    "        grammar_str = grammar_str.replace(str(grammar_no), num_to_alpha(grammar_no))\n",
    "    return grammar_str\n",
    "\n",
    "grammar = patch_grammar(grammar_lines)"
   ]
  },
  {
   "cell_type": "code",
   "execution_count": 15,
   "metadata": {},
   "outputs": [
    {
     "data": {
      "text/plain": [
       "142"
      ]
     },
     "execution_count": 15,
     "metadata": {},
     "output_type": "execute_result"
    }
   ],
   "source": [
    "parser = lark.Lark(grammar, start=\"a\")\n",
    "\n",
    "num_valid = 0\n",
    "for test_line in test_lines:\n",
    "    try:\n",
    "        parser.parse(test_line)\n",
    "        num_valid += 1\n",
    "    except:\n",
    "        pass\n",
    "num_valid"
   ]
  },
  {
   "cell_type": "code",
   "execution_count": 27,
   "metadata": {},
   "outputs": [
    {
     "name": "stdout",
     "output_type": "stream",
     "text": [
      "Found i rule to replace\n",
      "Found l rule to replace\n"
     ]
    }
   ],
   "source": [
    "def replace_rules(grammar):\n",
    "    lines = grammar.split('\\n')\n",
    "    for index, line in enumerate(lines):\n",
    "        if line.startswith('i:'):\n",
    "            print('Found i rule to replace')\n",
    "            lines[index] = 'i: bq | bq i'\n",
    "        elif line.startswith('l:'):\n",
    "            print('Found l rule to replace')\n",
    "            lines[index] = 'l: bq bf | bq l bf'\n",
    "    return '\\n'.join(lines)\n",
    "\n",
    "new_grammar = replace_rules(grammar)\n",
    "new_parser = lark.Lark(new_grammar, start=\"a\")\n"
   ]
  },
  {
   "cell_type": "code",
   "execution_count": 28,
   "metadata": {},
   "outputs": [
    {
     "data": {
      "text/plain": [
       "294"
      ]
     },
     "execution_count": 28,
     "metadata": {},
     "output_type": "execute_result"
    }
   ],
   "source": [
    "num_valid = 0\n",
    "for test_line in test_lines:\n",
    "    try:\n",
    "        new_parser.parse(test_line)\n",
    "        num_valid += 1\n",
    "    except:\n",
    "        pass\n",
    "num_valid"
   ]
  },
  {
   "cell_type": "code",
   "execution_count": null,
   "metadata": {},
   "outputs": [],
   "source": []
  }
 ],
 "metadata": {
  "kernelspec": {
   "display_name": "Python 3",
   "language": "python",
   "name": "python3"
  },
  "language_info": {
   "codemirror_mode": {
    "name": "ipython",
    "version": 3
   },
   "file_extension": ".py",
   "mimetype": "text/x-python",
   "name": "python",
   "nbconvert_exporter": "python",
   "pygments_lexer": "ipython3",
   "version": "3.8.5"
  }
 },
 "nbformat": 4,
 "nbformat_minor": 4
}
