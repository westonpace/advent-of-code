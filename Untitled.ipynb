{
 "cells": [
  {
   "cell_type": "code",
   "execution_count": 7,
   "metadata": {},
   "outputs": [
    {
     "name": "stdout",
     "output_type": "stream",
     "text": [
      "50409221 522\n",
      "50409221 522\n",
      "50409221 50409308\n",
      "147396618 50409308\n",
      "147396618 147396879\n",
      "244384015 147396879\n",
      "244384015 244384450\n",
      "341371412 244384450\n",
      "341371412 341371470\n",
      "438358809 341371470\n",
      "438358809 438359041\n",
      "535346206 438359041\n",
      "535346206 535346612\n",
      "632333603 535346612\n",
      "632333603 632333632\n",
      "729321000 632333632\n",
      "729321000 729321203\n",
      "826308397 729321203\n",
      "826308397 826308774\n",
      "923295794 826308774\n",
      "923295794 923295794\n",
      "923295794\n"
     ]
    }
   ],
   "source": [
    "s1 = 96987397\n",
    "i1 = 50409221 \n",
    "s2 = 551 \n",
    "i2 = 522\n",
    "\n",
    "def find_collision(slope_one, intercept_one, slope_two, intercept_two):\n",
    "    val_one = intercept_one\n",
    "    val_two = intercept_two\n",
    "    while True:\n",
    "        print(f'{val_one} {val_two}')\n",
    "        if val_one == val_two:\n",
    "            return val_one\n",
    "        \n",
    "        diff = val_two - val_one\n",
    "        if diff > 0:\n",
    "            num_times = diff // slope_one\n",
    "            if diff % slope_one != 0:\n",
    "                num_times += 1\n",
    "            val_one += slope_one * num_times\n",
    "        \n",
    "        print(f'{val_one} {val_two}')\n",
    "        if val_one == val_two:\n",
    "            return val_one\n",
    "        \n",
    "        diff = val_one - val_two\n",
    "        if diff > 0:\n",
    "            num_times = diff // slope_two\n",
    "            if diff % slope_two != 0:\n",
    "                num_times += 1\n",
    "            val_two += slope_two * num_times\n",
    "            \n",
    "print(find_collision(s1, i1, s2, i2))"
   ]
  },
  {
   "cell_type": "code",
   "execution_count": 3,
   "metadata": {},
   "outputs": [
    {
     "data": {
      "text/plain": [
       "923295794"
      ]
     },
     "execution_count": 3,
     "metadata": {},
     "output_type": "execute_result"
    }
   ],
   "source": [
    "923295794"
   ]
  },
  {
   "cell_type": "code",
   "execution_count": null,
   "metadata": {},
   "outputs": [],
   "source": []
  }
 ],
 "metadata": {
  "kernelspec": {
   "display_name": "Python 3",
   "language": "python",
   "name": "python3"
  },
  "language_info": {
   "codemirror_mode": {
    "name": "ipython",
    "version": 3
   },
   "file_extension": ".py",
   "mimetype": "text/x-python",
   "name": "python",
   "nbconvert_exporter": "python",
   "pygments_lexer": "ipython3",
   "version": "3.8.6"
  }
 },
 "nbformat": 4,
 "nbformat_minor": 4
}
