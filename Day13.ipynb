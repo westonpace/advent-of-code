{
 "cells": [
  {
   "cell_type": "code",
   "execution_count": 57,
   "metadata": {},
   "outputs": [],
   "source": [
    "import math\n",
    "with open('day13_input.txt') as f:\n",
    "    lines = [line.strip() for line in f.readlines()]"
   ]
  },
  {
   "cell_type": "code",
   "execution_count": 4,
   "metadata": {},
   "outputs": [],
   "source": [
    "current_timestamp = int(lines[0])\n",
    "bus_id_strs = lines[1].split(',')\n",
    "bus_ids = [int(bus_id_str) for bus_id_str in bus_id_strs if bus_id_str != 'x']"
   ]
  },
  {
   "cell_type": "code",
   "execution_count": 5,
   "metadata": {},
   "outputs": [
    {
     "data": {
      "text/plain": [
       "1000511"
      ]
     },
     "execution_count": 5,
     "metadata": {},
     "output_type": "execute_result"
    }
   ],
   "source": [
    "current_timestamp"
   ]
  },
  {
   "cell_type": "code",
   "execution_count": 6,
   "metadata": {},
   "outputs": [
    {
     "data": {
      "text/plain": [
       "[29, 37, 409, 17, 13, 19, 23, 353, 41]"
      ]
     },
     "execution_count": 6,
     "metadata": {},
     "output_type": "execute_result"
    }
   ],
   "source": [
    "bus_ids"
   ]
  },
  {
   "cell_type": "code",
   "execution_count": 7,
   "metadata": {},
   "outputs": [],
   "source": [
    "earliest_times = []\n",
    "for bus_id in bus_ids:\n",
    "    if current_timestamp % bus_id == 0:\n",
    "        earliest_times.append(current_timestamp)\n",
    "    else:\n",
    "        earliest_times.append(math.floor(current_timestamp / bus_id) * bus_id + bus_id)"
   ]
  },
  {
   "cell_type": "code",
   "execution_count": 8,
   "metadata": {},
   "outputs": [
    {
     "name": "stdout",
     "output_type": "stream",
     "text": [
      "Bus: 29 Earliest Time: 1000529\n",
      "Bus: 37 Earliest Time: 1000517\n",
      "Bus: 409 Earliest Time: 1000823\n",
      "Bus: 17 Earliest Time: 1000518\n",
      "Bus: 13 Earliest Time: 1000519\n",
      "Bus: 19 Earliest Time: 1000521\n",
      "Bus: 23 Earliest Time: 1000523\n",
      "Bus: 353 Earliest Time: 1000755\n",
      "Bus: 41 Earliest Time: 1000523\n"
     ]
    }
   ],
   "source": [
    "for i in range(len(bus_ids)):\n",
    "    print(f'Bus: {bus_ids[i]} Earliest Time: {earliest_times[i]}')"
   ]
  },
  {
   "cell_type": "code",
   "execution_count": 9,
   "metadata": {},
   "outputs": [
    {
     "data": {
      "text/plain": [
       "222"
      ]
     },
     "execution_count": 9,
     "metadata": {},
     "output_type": "execute_result"
    }
   ],
   "source": [
    "37 * (1000517 - current_timestamp)"
   ]
  },
  {
   "cell_type": "code",
   "execution_count": 10,
   "metadata": {},
   "outputs": [],
   "source": [
    "bus_ids = [(int(bus_id_str), index) for index, bus_id_str in enumerate(bus_id_strs) if bus_id_str != 'x']"
   ]
  },
  {
   "cell_type": "code",
   "execution_count": 11,
   "metadata": {},
   "outputs": [
    {
     "data": {
      "text/plain": [
       "[(29, 0),\n",
       " (37, 23),\n",
       " (409, 29),\n",
       " (17, 46),\n",
       " (13, 47),\n",
       " (19, 48),\n",
       " (23, 52),\n",
       " (353, 60),\n",
       " (41, 101)]"
      ]
     },
     "execution_count": 11,
     "metadata": {},
     "output_type": "execute_result"
    }
   ],
   "source": [
    "bus_ids"
   ]
  },
  {
   "cell_type": "code",
   "execution_count": 79,
   "metadata": {},
   "outputs": [
    {
     "name": "stdout",
     "output_type": "stream",
     "text": [
      "[(754, 777)] 1073\n",
      "[(11832, 11861)] 11861\n",
      "[(464, 510)] 493\n",
      "379523\n",
      "438857 379523 493 464\n",
      "7460569 5645807 377 174\n",
      "96987397 50409221 551 522\n",
      "1842760543 923295794 667 638\n",
      "42383492489 32250225025 10237 4176\n",
      "14961372848617 4312982966414 1189 145\n",
      "408270049879073\n"
     ]
    }
   ],
   "source": [
    "def find_points_of_interest(bus_one, bus_two):\n",
    "    bus_one_interval = bus_one[0]\n",
    "    bus_one_phase = bus_one[1]\n",
    "    bus_two_interval = bus_two[0]\n",
    "    bus_two_phase = bus_two[1]\n",
    "    time = 0\n",
    "    bus_one_val = bus_one_interval\n",
    "    bus_two_val = 0\n",
    "    meet_points = []\n",
    "    end = bus_one_interval * bus_two_interval\n",
    "    while True:\n",
    "        normalized_one = bus_one_val - bus_one_phase\n",
    "        normalized_two = bus_two_val - bus_two_phase\n",
    "        while normalized_two < normalized_one:\n",
    "            bus_two_val += bus_two_interval\n",
    "            normalized_two += bus_two_interval\n",
    "        if normalized_one == normalized_two:\n",
    "            meet_points.append((bus_one_val, bus_two_val))\n",
    "        bus_one_val += bus_one_interval\n",
    "        normalized_one += bus_one_interval\n",
    "        if bus_one_val == end:\n",
    "            return meet_points, end\n",
    "    \n",
    "def find_collision(slope_one, intercept_one, slope_two, intercept_two):\n",
    "    val_one = intercept_one\n",
    "    val_two = intercept_two\n",
    "    while True:\n",
    "        if val_one == val_two:\n",
    "            return val_one\n",
    "        \n",
    "        diff = val_two - val_one\n",
    "        if diff > 0:\n",
    "            num_times = diff // slope_one\n",
    "            if diff % slope_one != 0:\n",
    "                num_times += 1\n",
    "            val_one += slope_one * num_times\n",
    "        \n",
    "        if val_one == val_two:\n",
    "            return val_one\n",
    "        \n",
    "        diff = val_one - val_two\n",
    "        if diff > 0:\n",
    "            num_times = diff // slope_two\n",
    "            if diff % slope_two != 0:\n",
    "                num_times += 1\n",
    "            val_two += slope_two * num_times\n",
    "    \n",
    "meet_points_one, period_one = find_points_of_interest(bus_ids[0], bus_ids[1])\n",
    "meet_points_two, period_two = find_points_of_interest(bus_ids[0], bus_ids[2])\n",
    "meet_points_three, period_three = find_points_of_interest(bus_ids[0], bus_ids[3])\n",
    "print(f'{meet_points_one} {period_one}')\n",
    "print(f'{meet_points_two} {period_two}')\n",
    "print(f'{meet_points_three} {period_three}')\n",
    "x_one = meet_points_one[0][0]\n",
    "x_two = meet_points_two[0][0]\n",
    "\n",
    "interval = find_collision(period_one, meet_points_one[0][0], period_two, meet_points_two[0][0])\n",
    "print(interval)\n",
    "multiplier = period_one\n",
    "for i in range(2, len(bus_ids) - 1):\n",
    "    multiplier = multiplier * bus_ids[i][0]\n",
    "    meet_points, period = find_points_of_interest(bus_ids[0], bus_ids[i+1])\n",
    "    print(multiplier, interval, period, meet_points[0][0])\n",
    "    interval = find_collision(multiplier, interval, period, meet_points[0][0])\n",
    "print(interval)\n",
    "# print(period_one * bus_ids[2][0])\n",
    "# print(find_collision(438857, interval, period_three, meet_points_three[0][0]))"
   ]
  },
  {
   "cell_type": "code",
   "execution_count": 58,
   "metadata": {},
   "outputs": [
    {
     "data": {
      "text/plain": [
       "29"
      ]
     },
     "execution_count": 58,
     "metadata": {},
     "output_type": "execute_result"
    }
   ],
   "source": [
    "math.gcd(1073, 11861)"
   ]
  },
  {
   "cell_type": "code",
   "execution_count": 59,
   "metadata": {},
   "outputs": [
    {
     "data": {
      "text/plain": [
       "382.0"
      ]
     },
     "execution_count": 59,
     "metadata": {},
     "output_type": "execute_result"
    }
   ],
   "source": [
    "11078/29"
   ]
  },
  {
   "cell_type": "code",
   "execution_count": null,
   "metadata": {},
   "outputs": [],
   "source": []
  }
 ],
 "metadata": {
  "kernelspec": {
   "display_name": "Python 3",
   "language": "python",
   "name": "python3"
  },
  "language_info": {
   "codemirror_mode": {
    "name": "ipython",
    "version": 3
   },
   "file_extension": ".py",
   "mimetype": "text/x-python",
   "name": "python",
   "nbconvert_exporter": "python",
   "pygments_lexer": "ipython3",
   "version": "3.8.6"
  }
 },
 "nbformat": 4,
 "nbformat_minor": 4
}
