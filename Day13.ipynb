{
 "cells": [
  {
   "cell_type": "code",
   "execution_count": 5,
   "metadata": {},
   "outputs": [],
   "source": [
    "import math\n",
    "with open('day13_input.txt') as f:\n",
    "    lines = [line.strip() for line in f.readlines()]"
   ]
  },
  {
   "cell_type": "code",
   "execution_count": 2,
   "metadata": {},
   "outputs": [],
   "source": [
    "current_timestamp = int(lines[0])\n",
    "bus_id_strs = lines[1].split(',')\n",
    "bus_ids = [int(bus_id_str) for bus_id_str in bus_id_strs if bus_id_str != 'x']"
   ]
  },
  {
   "cell_type": "code",
   "execution_count": 3,
   "metadata": {},
   "outputs": [
    {
     "data": {
      "text/plain": [
       "1000511"
      ]
     },
     "execution_count": 3,
     "metadata": {},
     "output_type": "execute_result"
    }
   ],
   "source": [
    "current_timestamp"
   ]
  },
  {
   "cell_type": "code",
   "execution_count": 4,
   "metadata": {},
   "outputs": [
    {
     "data": {
      "text/plain": [
       "[29, 37, 409, 17, 13, 19, 23, 353, 41]"
      ]
     },
     "execution_count": 4,
     "metadata": {},
     "output_type": "execute_result"
    }
   ],
   "source": [
    "bus_ids"
   ]
  },
  {
   "cell_type": "code",
   "execution_count": 7,
   "metadata": {},
   "outputs": [],
   "source": [
    "earliest_times = []\n",
    "for bus_id in bus_ids:\n",
    "    if current_timestamp % bus_id == 0:\n",
    "        earliest_times.append(current_timestamp)\n",
    "    else:\n",
    "        earliest_times.append(math.floor(current_timestamp / bus_id) * bus_id + bus_id)"
   ]
  },
  {
   "cell_type": "code",
   "execution_count": 9,
   "metadata": {},
   "outputs": [
    {
     "name": "stdout",
     "output_type": "stream",
     "text": [
      "Bus: 29 Earliest Time: 1000529\n",
      "Bus: 37 Earliest Time: 1000517\n",
      "Bus: 409 Earliest Time: 1000823\n",
      "Bus: 17 Earliest Time: 1000518\n",
      "Bus: 13 Earliest Time: 1000519\n",
      "Bus: 19 Earliest Time: 1000521\n",
      "Bus: 23 Earliest Time: 1000523\n",
      "Bus: 353 Earliest Time: 1000755\n",
      "Bus: 41 Earliest Time: 1000523\n"
     ]
    }
   ],
   "source": [
    "for i in range(len(bus_ids)):\n",
    "    print(f'Bus: {bus_ids[i]} Earliest Time: {earliest_times[i]}')"
   ]
  },
  {
   "cell_type": "code",
   "execution_count": 10,
   "metadata": {},
   "outputs": [
    {
     "data": {
      "text/plain": [
       "222"
      ]
     },
     "execution_count": 10,
     "metadata": {},
     "output_type": "execute_result"
    }
   ],
   "source": [
    "37 * (1000517 - current_timestamp)"
   ]
  },
  {
   "cell_type": "code",
   "execution_count": null,
   "metadata": {},
   "outputs": [],
   "source": []
  }
 ],
 "metadata": {
  "kernelspec": {
   "display_name": "Python 3",
   "language": "python",
   "name": "python3"
  },
  "language_info": {
   "codemirror_mode": {
    "name": "ipython",
    "version": 3
   },
   "file_extension": ".py",
   "mimetype": "text/x-python",
   "name": "python",
   "nbconvert_exporter": "python",
   "pygments_lexer": "ipython3",
   "version": "3.8.6"
  }
 },
 "nbformat": 4,
 "nbformat_minor": 4
}
