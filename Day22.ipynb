{
 "cells": [
  {
   "cell_type": "code",
   "execution_count": 1,
   "metadata": {},
   "outputs": [],
   "source": [
    "import math\n",
    "\n",
    "with open('day22_input.txt') as f:\n",
    "   lines = [line.strip() for line in f.readlines()]"
   ]
  },
  {
   "cell_type": "code",
   "execution_count": 34,
   "metadata": {},
   "outputs": [
    {
     "data": {
      "text/plain": [
       "[40,\n",
       " 26,\n",
       " 44,\n",
       " 14,\n",
       " 3,\n",
       " 17,\n",
       " 36,\n",
       " 43,\n",
       " 47,\n",
       " 38,\n",
       " 39,\n",
       " 41,\n",
       " 23,\n",
       " 28,\n",
       " 49,\n",
       " 27,\n",
       " 18,\n",
       " 2,\n",
       " 13,\n",
       " 32,\n",
       " 29,\n",
       " 11,\n",
       " 25,\n",
       " 24,\n",
       " 35]"
      ]
     },
     "execution_count": 34,
     "metadata": {},
     "output_type": "execute_result"
    }
   ],
   "source": [
    "player_one_lines = lines[1:26]\n",
    "p1_cards = [int(line) for line in player_one_lines]\n",
    "p1_cards"
   ]
  },
  {
   "cell_type": "code",
   "execution_count": 35,
   "metadata": {},
   "outputs": [
    {
     "data": {
      "text/plain": [
       "[19,\n",
       " 15,\n",
       " 48,\n",
       " 37,\n",
       " 6,\n",
       " 34,\n",
       " 8,\n",
       " 50,\n",
       " 22,\n",
       " 46,\n",
       " 20,\n",
       " 21,\n",
       " 10,\n",
       " 1,\n",
       " 33,\n",
       " 30,\n",
       " 4,\n",
       " 5,\n",
       " 7,\n",
       " 31,\n",
       " 12,\n",
       " 9,\n",
       " 45,\n",
       " 42,\n",
       " 16]"
      ]
     },
     "execution_count": 35,
     "metadata": {},
     "output_type": "execute_result"
    }
   ],
   "source": [
    "player_two_lines = lines[28:53]\n",
    "p2_cards = [int(line) for line in player_two_lines]\n",
    "p2_cards"
   ]
  },
  {
   "cell_type": "code",
   "execution_count": 27,
   "metadata": {},
   "outputs": [
    {
     "name": "stdout",
     "output_type": "stream",
     "text": [
      "p1=0 p2=50\n"
     ]
    }
   ],
   "source": [
    "p1 = p1_cards.copy()\n",
    "p2 = p2_cards.copy()\n",
    "while p1 and p2:\n",
    "    c1 = p1.pop(0)\n",
    "    c2 = p2.pop(0)\n",
    "    if c1 > c2:\n",
    "        p1.append(c1)\n",
    "        p1.append(c2)\n",
    "    elif c2 > c1:\n",
    "        p2.append(c2)\n",
    "        p2.append(c1)\n",
    "    else:\n",
    "        raise Exception('TIE')\n",
    "print(f'p1={len(p1)} p2={len(p2)}')"
   ]
  },
  {
   "cell_type": "code",
   "execution_count": 28,
   "metadata": {},
   "outputs": [
    {
     "name": "stdout",
     "output_type": "stream",
     "text": [
      "32401\n"
     ]
    }
   ],
   "source": [
    "score = 0\n",
    "multiplier = len(p2)\n",
    "for card in p2:\n",
    "    score += multiplier * card\n",
    "    multiplier -= 1\n",
    "print(score)"
   ]
  },
  {
   "cell_type": "code",
   "execution_count": 67,
   "metadata": {},
   "outputs": [],
   "source": [
    "p1 = p1_cards.copy()\n",
    "p2 = p2_cards.copy()\n",
    "\n",
    "# p1 = [43, 19]\n",
    "# p2 = [2, 29, 14]\n",
    "\n",
    "# p1 = [9, 2, 6, 3, 1]\n",
    "# p2 = [5, 8, 4, 7, 10]\n",
    "\n",
    "def play_round(p1c, p2c, root=False):\n",
    "    played_rounds = set()\n",
    "    while p1c and p2c:\n",
    "        round_descriptor = (tuple(p1c), tuple(p2c))\n",
    "        if round_descriptor in played_rounds:\n",
    "            return [p1c, []]\n",
    "        played_rounds.add(round_descriptor)\n",
    "        c1 = p1c.pop(0)\n",
    "        c2 = p2c.pop(0)\n",
    "        if c1 <= len(p1c) and c2 <= len(p2c):\n",
    "            p1_sub = p1c[:c1]\n",
    "            p2_sub = p2c[:c2]\n",
    "            recursive_result = play_round(p1_sub, p2_sub)\n",
    "            if recursive_result[0]:\n",
    "                p1c.append(c1)\n",
    "                p1c.append(c2)\n",
    "            else:\n",
    "                p2c.append(c2)\n",
    "                p2c.append(c1)\n",
    "        else:\n",
    "            if c1 > c2:\n",
    "                p1c.append(c1)\n",
    "                p1c.append(c2)\n",
    "            elif c2 > c1:\n",
    "                p2c.append(c2)\n",
    "                p2c.append(c1)\n",
    "            else:\n",
    "                raise Exception(\"TIE\")\n",
    "    return [p1c, p2c]\n",
    "\n",
    "final_result = play_round(p1, p2, True)"
   ]
  },
  {
   "cell_type": "code",
   "execution_count": 68,
   "metadata": {},
   "outputs": [
    {
     "data": {
      "text/plain": [
       "[17,\n",
       " 7,\n",
       " 39,\n",
       " 18,\n",
       " 37,\n",
       " 4,\n",
       " 34,\n",
       " 29,\n",
       " 12,\n",
       " 8,\n",
       " 5,\n",
       " 1,\n",
       " 36,\n",
       " 23,\n",
       " 28,\n",
       " 2,\n",
       " 50,\n",
       " 11,\n",
       " 49,\n",
       " 32,\n",
       " 41,\n",
       " 14,\n",
       " 40,\n",
       " 27,\n",
       " 38,\n",
       " 33,\n",
       " 30,\n",
       " 13,\n",
       " 26,\n",
       " 25,\n",
       " 47,\n",
       " 22,\n",
       " 31,\n",
       " 9,\n",
       " 48,\n",
       " 44,\n",
       " 43,\n",
       " 35,\n",
       " 45,\n",
       " 15,\n",
       " 20,\n",
       " 10,\n",
       " 46,\n",
       " 24,\n",
       " 19,\n",
       " 6,\n",
       " 42,\n",
       " 21,\n",
       " 16,\n",
       " 3]"
      ]
     },
     "execution_count": 68,
     "metadata": {},
     "output_type": "execute_result"
    }
   ],
   "source": [
    "final = final_result[1]\n",
    "final"
   ]
  },
  {
   "cell_type": "code",
   "execution_count": 69,
   "metadata": {},
   "outputs": [
    {
     "name": "stdout",
     "output_type": "stream",
     "text": [
      "[17, 7, 39, 18, 37, 4, 34, 29, 12, 8, 5, 1, 36, 23, 28, 2, 50, 11, 49, 32, 41, 14, 40, 27, 38, 33, 30, 13, 26, 25, 47, 22, 31, 9, 48, 44, 43, 35, 45, 15, 20, 10, 46, 24, 19, 6, 42, 21, 16, 3]\n",
      "31436\n"
     ]
    }
   ],
   "source": [
    "print(final)\n",
    "score = 0\n",
    "multiplier = len(final)\n",
    "for card in final:\n",
    "    score += multiplier * card\n",
    "    multiplier -= 1\n",
    "print(score)"
   ]
  },
  {
   "cell_type": "code",
   "execution_count": null,
   "metadata": {},
   "outputs": [],
   "source": []
  }
 ],
 "metadata": {
  "kernelspec": {
   "display_name": "Python 3",
   "language": "python",
   "name": "python3"
  },
  "language_info": {
   "codemirror_mode": {
    "name": "ipython",
    "version": 3
   },
   "file_extension": ".py",
   "mimetype": "text/x-python",
   "name": "python",
   "nbconvert_exporter": "python",
   "pygments_lexer": "ipython3",
   "version": "3.8.5"
  }
 },
 "nbformat": 4,
 "nbformat_minor": 4
}
