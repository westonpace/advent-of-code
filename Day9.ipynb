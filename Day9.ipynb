{
 "cells": [
  {
   "cell_type": "code",
   "execution_count": 1,
   "metadata": {},
   "outputs": [],
   "source": [
    "import re\n",
    "\n",
    "with open('day9_input.txt') as f:\n",
    "    lines = [line.strip() for line in f.readlines()]"
   ]
  },
  {
   "cell_type": "code",
   "execution_count": 7,
   "metadata": {},
   "outputs": [
    {
     "name": "stdout",
     "output_type": "stream",
     "text": [
      "No match found for index 509 and value 27911108\n"
     ]
    }
   ],
   "source": [
    "values = [int(line) for line in lines]\n",
    "\n",
    "lookback_limit = 25\n",
    "\n",
    "def contains_value(values, start_index, val_range, not_this_index, target_value):\n",
    "    for offset in range(val_range):\n",
    "        index = offset + start_index\n",
    "        if index != not_this_index and values[index] == target_value:\n",
    "            return True\n",
    "    return False\n",
    "\n",
    "def find_match(values, end_index, target):\n",
    "    start_index = max(0, end_index - lookback_limit)\n",
    "    val_range = end_index - start_index\n",
    "    for offset in range(val_range):\n",
    "        index = offset + start_index\n",
    "        value_one = values[index]\n",
    "        if value_one >= target:\n",
    "            continue\n",
    "        difference = target - value_one\n",
    "        if contains_value(values, start_index, val_range, index, difference):\n",
    "            return value_one, difference\n",
    "    return None\n",
    "\n",
    "for offset in range(len(values) - lookback_limit):\n",
    "    index = lookback_limit + offset\n",
    "    match = find_match(values, index, values[index])\n",
    "    if match is None:\n",
    "        target_value = values[index]\n",
    "        print(f'No match found for index {index} and value {values[index]}')"
   ]
  },
  {
   "cell_type": "code",
   "execution_count": 8,
   "metadata": {},
   "outputs": [
    {
     "data": {
      "text/plain": [
       "27911108"
      ]
     },
     "execution_count": 8,
     "metadata": {},
     "output_type": "execute_result"
    }
   ],
   "source": [
    "target_value"
   ]
  },
  {
   "cell_type": "code",
   "execution_count": 10,
   "metadata": {},
   "outputs": [
    {
     "name": "stdout",
     "output_type": "stream",
     "text": [
      "Starting with 396 (value=1219676) and ending with 412 (value=2845692)\n",
      "Starting with 509 (value=27911108) and ending with 509 (value=27911108)\n"
     ]
    }
   ],
   "source": [
    "def check(running_sum, target_value):\n",
    "    if running_sum == target_value:\n",
    "        print(f'Starting with {start_index} (value={values[start_index]}) and ending with {end_index - 1} (value={values[end_index - 1]})')\n",
    "        return True\n",
    "    return False\n",
    "    \n",
    "\n",
    "running_sum = 0\n",
    "start_index = 0\n",
    "end_index = 0\n",
    "for i in range(len(values)):\n",
    "    running_sum += values[i]\n",
    "    end_index += 1\n",
    "    if check(running_sum, target_value):\n",
    "        break\n",
    "    while running_sum > target_value:\n",
    "        running_sum -= values[start_index]\n",
    "        start_index += 1\n",
    "        if check(running_sum, target_value):\n",
    "            break"
   ]
  },
  {
   "cell_type": "code",
   "execution_count": 16,
   "metadata": {},
   "outputs": [
    {
     "data": {
      "text/plain": [
       "4065368"
      ]
     },
     "execution_count": 16,
     "metadata": {},
     "output_type": "execute_result"
    }
   ],
   "source": [
    "del sum\n",
    "1219676 + 2845692\n"
   ]
  },
  {
   "cell_type": "code",
   "execution_count": 19,
   "metadata": {},
   "outputs": [
    {
     "name": "stdout",
     "output_type": "stream",
     "text": [
      "27911108\n",
      "1178062\n",
      "2845692\n",
      "4023754\n"
     ]
    }
   ],
   "source": [
    "target_slice = values[396:413]\n",
    "print(sum(target_slice))\n",
    "print(min(target_slice))\n",
    "print(max(target_slice))\n",
    "print(min(target_slice)+max(target_slice))"
   ]
  },
  {
   "cell_type": "code",
   "execution_count": null,
   "metadata": {},
   "outputs": [],
   "source": []
  }
 ],
 "metadata": {
  "kernelspec": {
   "display_name": "Python 3",
   "language": "python",
   "name": "python3"
  },
  "language_info": {
   "codemirror_mode": {
    "name": "ipython",
    "version": 3
   },
   "file_extension": ".py",
   "mimetype": "text/x-python",
   "name": "python",
   "nbconvert_exporter": "python",
   "pygments_lexer": "ipython3",
   "version": "3.8.6"
  }
 },
 "nbformat": 4,
 "nbformat_minor": 4
}
